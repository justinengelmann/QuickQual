{
 "cells": [
  {
   "cell_type": "code",
   "execution_count": 1,
   "metadata": {
    "collapsed": true,
    "ExecuteTime": {
     "end_time": "2023-07-25T14:41:12.881514900Z",
     "start_time": "2023-07-25T14:41:11.072300900Z"
    }
   },
   "outputs": [
    {
     "name": "stdout",
     "output_type": "stream",
     "text": [
      "Predicted p(bad): 0.9386\n"
     ]
    }
   ],
   "source": [
    "import torch\n",
    "from torchvision.transforms import functional as F\n",
    "from PIL import Image\n",
    "import timm\n",
    "\n",
    "img = Image.open('/home/justinengelmann/datastorage/kaggle/test_preprocessed/10036_left.jpeg')\n",
    "\n",
    "model = timm.create_model(\"densenet121.tv_in1k\", pretrained=True, num_classes=0)\n",
    "model.eval().cuda()\n",
    "\n",
    "w = torch.tensor([-1411.32, 517.09, 342.41, -707.9,\n",
    "                  1442.09, -23.25, -541.64, -8.44, 5.44])\n",
    "b = torch.tensor([5.18])\n",
    "\n",
    "img = F.to_tensor(F.resize(img, 512))\n",
    "img = F.normalize(img, [0.5] * 3, [0.5] * 3).cuda().unsqueeze(0)\n",
    "\n",
    "with torch.no_grad():\n",
    "    feats = model(img).squeeze().cpu().reshape(1, -1)\n",
    "feats = feats[:, [71, 109, 121, 53, 55, 123, 29, 133, 84]]\n",
    "pred = torch.sigmoid(feats @ w + b)\n",
    "print(f'Predicted p(bad): {pred.item():.4f}')"
   ]
  }
 ],
 "metadata": {
  "kernelspec": {
   "display_name": "Python 3",
   "language": "python",
   "name": "python3"
  },
  "language_info": {
   "codemirror_mode": {
    "name": "ipython",
    "version": 2
   },
   "file_extension": ".py",
   "mimetype": "text/x-python",
   "name": "python",
   "nbconvert_exporter": "python",
   "pygments_lexer": "ipython2",
   "version": "2.7.6"
  }
 },
 "nbformat": 4,
 "nbformat_minor": 0
}
