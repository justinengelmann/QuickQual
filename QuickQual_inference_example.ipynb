{
 "cells": [
  {
   "cell_type": "code",
   "execution_count": 1,
   "metadata": {
    "collapsed": true,
    "ExecuteTime": {
     "end_time": "2023-07-25T14:38:30.265873Z",
     "start_time": "2023-07-25T14:38:28.378127100Z"
    }
   },
   "outputs": [
    {
     "name": "stdout",
     "output_type": "stream",
     "text": [
      "0.0001 0.0114 0.9885 \n"
     ]
    }
   ],
   "source": [
    "import torch\n",
    "from torchvision.transforms import functional as F\n",
    "from PIL import Image\n",
    "import timm\n",
    "import joblib\n",
    "\n",
    "img = Image.open('/home/justinengelmann/datastorage/kaggle/test_preprocessed/10036_left.jpeg')\n",
    "\n",
    "model = timm.create_model('densenet121.tv_in1k', pretrained=True, num_classes=0)\n",
    "model.eval().cuda()\n",
    "clf = joblib.load('quickqual_dn121_512.pkl')\n",
    "\n",
    "img = F.to_tensor(F.resize(img, 512))\n",
    "img = F.normalize(img, [0.5] * 3, [0.5] * 3).cuda().unsqueeze(0)\n",
    "with torch.no_grad():\n",
    "    features = model(img).squeeze().cpu().reshape(1, -1)\n",
    "pred = clf.predict_proba(features)\n",
    "print(''.join([f'{p:.4f} ' for p in pred[0]]))"
   ]
  },
  {
   "cell_type": "markdown",
   "source": [
    "Note: The timm checkpoint we used is identical to the torchvision one. Thus, timm and torchvision models should be interchangeable."
   ],
   "metadata": {
    "collapsed": false
   }
  },
  {
   "cell_type": "code",
   "execution_count": 2,
   "outputs": [
    {
     "name": "stdout",
     "output_type": "stream",
     "text": [
      "0.0001 0.0114 0.9885 \n"
     ]
    }
   ],
   "source": [
    "import torch\n",
    "from torchvision.transforms import functional as F\n",
    "from PIL import Image\n",
    "from torchvision import models\n",
    "import joblib\n",
    "\n",
    "img = Image.open('/home/justinengelmann/datastorage/kaggle/test_preprocessed/10036_left.jpeg')\n",
    "\n",
    "model = models.densenet121(weights='IMAGENET1K_V1')\n",
    "model.classifier = torch.nn.Identity()\n",
    "model.eval().cuda()\n",
    "clf = joblib.load('quickqual_dn121_512.pkl')\n",
    "\n",
    "img = F.to_tensor(F.resize(img, 512))\n",
    "img = F.normalize(img, [0.5] * 3, [0.5] * 3).cuda().unsqueeze(0)\n",
    "with torch.no_grad():\n",
    "    features = model(img).squeeze().cpu().reshape(1, -1)\n",
    "pred = clf.predict_proba(features)\n",
    "print(''.join([f'{p:.4f} ' for p in pred[0]]))"
   ],
   "metadata": {
    "collapsed": false,
    "ExecuteTime": {
     "end_time": "2023-07-25T14:38:31.984144500Z",
     "start_time": "2023-07-25T14:38:31.841307300Z"
    }
   }
  }
 ],
 "metadata": {
  "kernelspec": {
   "display_name": "Python 3",
   "language": "python",
   "name": "python3"
  },
  "language_info": {
   "codemirror_mode": {
    "name": "ipython",
    "version": 2
   },
   "file_extension": ".py",
   "mimetype": "text/x-python",
   "name": "python",
   "nbconvert_exporter": "python",
   "pygments_lexer": "ipython2",
   "version": "2.7.6"
  }
 },
 "nbformat": 4,
 "nbformat_minor": 0
}
