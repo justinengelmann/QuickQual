{
 "cells": [
  {
   "cell_type": "code",
   "execution_count": 1,
   "metadata": {
    "collapsed": true,
    "ExecuteTime": {
     "end_time": "2023-07-25T14:28:19.862044300Z",
     "start_time": "2023-07-25T14:28:19.533559600Z"
    }
   },
   "outputs": [
    {
     "data": {
      "text/plain": "           Accuracy     AUC      F1  LogLoss   Kappa  QuadKappa\nMCFNet       0.8800  0.9588  0.8606   0.3632  0.8017     0.8955\nQuickQual    0.8863  0.9687  0.8675   0.3049  0.8107     0.9019",
      "text/html": "<div>\n<style scoped>\n    .dataframe tbody tr th:only-of-type {\n        vertical-align: middle;\n    }\n\n    .dataframe tbody tr th {\n        vertical-align: top;\n    }\n\n    .dataframe thead th {\n        text-align: right;\n    }\n</style>\n<table border=\"1\" class=\"dataframe\">\n  <thead>\n    <tr style=\"text-align: right;\">\n      <th></th>\n      <th>Accuracy</th>\n      <th>AUC</th>\n      <th>F1</th>\n      <th>LogLoss</th>\n      <th>Kappa</th>\n      <th>QuadKappa</th>\n    </tr>\n  </thead>\n  <tbody>\n    <tr>\n      <th>MCFNet</th>\n      <td>0.8800</td>\n      <td>0.9588</td>\n      <td>0.8606</td>\n      <td>0.3632</td>\n      <td>0.8017</td>\n      <td>0.8955</td>\n    </tr>\n    <tr>\n      <th>QuickQual</th>\n      <td>0.8863</td>\n      <td>0.9687</td>\n      <td>0.8675</td>\n      <td>0.3049</td>\n      <td>0.8107</td>\n      <td>0.9019</td>\n    </tr>\n  </tbody>\n</table>\n</div>"
     },
     "execution_count": 1,
     "metadata": {},
     "output_type": "execute_result"
    }
   ],
   "source": [
    "import pandas as pd\n",
    "from sklearn.metrics import accuracy_score, f1_score, cohen_kappa_score, roc_auc_score, log_loss\n",
    "\n",
    "def get_scores(y_true, y_pred, y_pred_hard):\n",
    "    acc = accuracy_score(y_true, y_pred_hard)\n",
    "    auc = roc_auc_score(y_true, y_pred, average=\"macro\", multi_class=\"ovr\")\n",
    "    f1 = f1_score(y_true, y_pred_hard, average=\"macro\")\n",
    "    kappa = cohen_kappa_score(y_true, y_pred_hard)\n",
    "    quad_kappa = cohen_kappa_score(y_true, y_pred_hard, weights=\"quadratic\")\n",
    "    logloss = log_loss(y_true, y_pred)\n",
    "    return dict(Accuracy=acc, AUC=auc, F1=f1, LogLoss=logloss, Kappa=kappa, QuadKappa=quad_kappa)\n",
    "\n",
    "quickqual_results = pd.read_csv('quickqual_results.csv',\n",
    "                                index_col=0)\n",
    "mcfnet_results = pd.read_csv('https://raw.githubusercontent.com/'\n",
    "                             'HzFu/EyeQ/master/MCF_Net/result/DenseNet121_v3_v1.csv',\n",
    "                             index_col=0)\n",
    "ground_truth = pd.read_csv('https://raw.githubusercontent.com/'\n",
    "                           'HzFu/EyeQ/master/data/Label_EyeQ_test.csv',\n",
    "                           index_col=0)\n",
    "\n",
    "y_true = ground_truth['quality'].values\n",
    "\n",
    "quickqual_preds = quickqual_results[['Good', 'Usable', 'Reject']].values\n",
    "# take argmax to get hard predictions\n",
    "# (hard = single class label instead of probabilities for each class)\n",
    "quickqual_preds_hard = quickqual_preds.argmax(axis=1)\n",
    "\n",
    "mcfnet_preds = mcfnet_results[['Good', 'Usable', 'Reject']].values\n",
    "mcfnet_hardpreds = mcfnet_preds.argmax(axis=1)\n",
    "# mcfnets predictions sometimes sum to more than 1, so we normalize them as otherwise sklearn metrics will complain\n",
    "# NB: for the histgrams of predictions, we use the original predictions, not the normalized ones\n",
    "mcfnet_preds = mcfnet_preds / mcfnet_preds.sum(1).reshape(-1, 1)\n",
    "\n",
    "results_table = pd.DataFrame(columns=['Accuracy', 'AUC', 'F1', 'LogLoss', 'Kappa', 'QuadKappa'])\n",
    "\n",
    "results_table = pd.concat([results_table, pd.DataFrame([get_scores(y_true, mcfnet_preds, mcfnet_hardpreds)], index=['MCFNet'])])\n",
    "results_table = pd.concat([results_table, pd.DataFrame([get_scores(y_true, quickqual_preds, quickqual_preds_hard)], index=['QuickQual'])])\n",
    "results_table.round(4)"
   ]
  }
 ],
 "metadata": {
  "kernelspec": {
   "display_name": "Python 3",
   "language": "python",
   "name": "python3"
  },
  "language_info": {
   "codemirror_mode": {
    "name": "ipython",
    "version": 2
   },
   "file_extension": ".py",
   "mimetype": "text/x-python",
   "name": "python",
   "nbconvert_exporter": "python",
   "pygments_lexer": "ipython2",
   "version": "2.7.6"
  }
 },
 "nbformat": 4,
 "nbformat_minor": 0
}
